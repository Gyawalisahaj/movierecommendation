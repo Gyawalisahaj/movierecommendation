{
 "cells": [
  {
   "cell_type": "code",
   "execution_count": null,
   "id": "4dc77b3e-da54-40a8-841b-ba42113c6bfc",
   "metadata": {},
   "outputs": [],
   "source": [
    "import pandas as pd\n",
    "import numpy as np\n",
    "import seaborn as sns \n",
    "import matplotlib.pyplot as plt\n",
    "\n",
    "import os\n",
    "import warnings \n",
    "warnings.simplefilter(action='ignore', category=FutureWarning)\n",
    "with warnings.catch_warnings():\n",
    "    warnings.simplefilter(\"ignore\", RuntimeWarning)"
   ]
  },
  {
   "cell_type": "code",
   "execution_count": 54,
   "id": "90c734b6-ea02-404f-ae0f-f3a212c6b296",
   "metadata": {},
   "outputs": [
    {
     "ename": "FileNotFoundError",
     "evalue": "[Errno 2] No such file or directory: 'movies.csv'",
     "output_type": "error",
     "traceback": [
      "\u001b[31m---------------------------------------------------------------------------\u001b[39m",
      "\u001b[31mFileNotFoundError\u001b[39m                         Traceback (most recent call last)",
      "\u001b[36mCell\u001b[39m\u001b[36m \u001b[39m\u001b[32mIn[54]\u001b[39m\u001b[32m, line 1\u001b[39m\n\u001b[32m----> \u001b[39m\u001b[32m1\u001b[39m df = \u001b[43mpd\u001b[49m\u001b[43m.\u001b[49m\u001b[43mread_csv\u001b[49m\u001b[43m(\u001b[49m\u001b[33;43m\"\u001b[39;49m\u001b[33;43mmovies.csv\u001b[39;49m\u001b[33;43m\"\u001b[39;49m\u001b[43m)\u001b[49m\n\u001b[32m      2\u001b[39m df\n",
      "\u001b[36mFile \u001b[39m\u001b[32m~/jupyter-env/lib/python3.13/site-packages/pandas/io/parsers/readers.py:1026\u001b[39m, in \u001b[36mread_csv\u001b[39m\u001b[34m(filepath_or_buffer, sep, delimiter, header, names, index_col, usecols, dtype, engine, converters, true_values, false_values, skipinitialspace, skiprows, skipfooter, nrows, na_values, keep_default_na, na_filter, verbose, skip_blank_lines, parse_dates, infer_datetime_format, keep_date_col, date_parser, date_format, dayfirst, cache_dates, iterator, chunksize, compression, thousands, decimal, lineterminator, quotechar, quoting, doublequote, escapechar, comment, encoding, encoding_errors, dialect, on_bad_lines, delim_whitespace, low_memory, memory_map, float_precision, storage_options, dtype_backend)\u001b[39m\n\u001b[32m   1013\u001b[39m kwds_defaults = _refine_defaults_read(\n\u001b[32m   1014\u001b[39m     dialect,\n\u001b[32m   1015\u001b[39m     delimiter,\n\u001b[32m   (...)\u001b[39m\u001b[32m   1022\u001b[39m     dtype_backend=dtype_backend,\n\u001b[32m   1023\u001b[39m )\n\u001b[32m   1024\u001b[39m kwds.update(kwds_defaults)\n\u001b[32m-> \u001b[39m\u001b[32m1026\u001b[39m \u001b[38;5;28;01mreturn\u001b[39;00m \u001b[43m_read\u001b[49m\u001b[43m(\u001b[49m\u001b[43mfilepath_or_buffer\u001b[49m\u001b[43m,\u001b[49m\u001b[43m \u001b[49m\u001b[43mkwds\u001b[49m\u001b[43m)\u001b[49m\n",
      "\u001b[36mFile \u001b[39m\u001b[32m~/jupyter-env/lib/python3.13/site-packages/pandas/io/parsers/readers.py:620\u001b[39m, in \u001b[36m_read\u001b[39m\u001b[34m(filepath_or_buffer, kwds)\u001b[39m\n\u001b[32m    617\u001b[39m _validate_names(kwds.get(\u001b[33m\"\u001b[39m\u001b[33mnames\u001b[39m\u001b[33m\"\u001b[39m, \u001b[38;5;28;01mNone\u001b[39;00m))\n\u001b[32m    619\u001b[39m \u001b[38;5;66;03m# Create the parser.\u001b[39;00m\n\u001b[32m--> \u001b[39m\u001b[32m620\u001b[39m parser = \u001b[43mTextFileReader\u001b[49m\u001b[43m(\u001b[49m\u001b[43mfilepath_or_buffer\u001b[49m\u001b[43m,\u001b[49m\u001b[43m \u001b[49m\u001b[43m*\u001b[49m\u001b[43m*\u001b[49m\u001b[43mkwds\u001b[49m\u001b[43m)\u001b[49m\n\u001b[32m    622\u001b[39m \u001b[38;5;28;01mif\u001b[39;00m chunksize \u001b[38;5;129;01mor\u001b[39;00m iterator:\n\u001b[32m    623\u001b[39m     \u001b[38;5;28;01mreturn\u001b[39;00m parser\n",
      "\u001b[36mFile \u001b[39m\u001b[32m~/jupyter-env/lib/python3.13/site-packages/pandas/io/parsers/readers.py:1620\u001b[39m, in \u001b[36mTextFileReader.__init__\u001b[39m\u001b[34m(self, f, engine, **kwds)\u001b[39m\n\u001b[32m   1617\u001b[39m     \u001b[38;5;28mself\u001b[39m.options[\u001b[33m\"\u001b[39m\u001b[33mhas_index_names\u001b[39m\u001b[33m\"\u001b[39m] = kwds[\u001b[33m\"\u001b[39m\u001b[33mhas_index_names\u001b[39m\u001b[33m\"\u001b[39m]\n\u001b[32m   1619\u001b[39m \u001b[38;5;28mself\u001b[39m.handles: IOHandles | \u001b[38;5;28;01mNone\u001b[39;00m = \u001b[38;5;28;01mNone\u001b[39;00m\n\u001b[32m-> \u001b[39m\u001b[32m1620\u001b[39m \u001b[38;5;28mself\u001b[39m._engine = \u001b[38;5;28;43mself\u001b[39;49m\u001b[43m.\u001b[49m\u001b[43m_make_engine\u001b[49m\u001b[43m(\u001b[49m\u001b[43mf\u001b[49m\u001b[43m,\u001b[49m\u001b[43m \u001b[49m\u001b[38;5;28;43mself\u001b[39;49m\u001b[43m.\u001b[49m\u001b[43mengine\u001b[49m\u001b[43m)\u001b[49m\n",
      "\u001b[36mFile \u001b[39m\u001b[32m~/jupyter-env/lib/python3.13/site-packages/pandas/io/parsers/readers.py:1880\u001b[39m, in \u001b[36mTextFileReader._make_engine\u001b[39m\u001b[34m(self, f, engine)\u001b[39m\n\u001b[32m   1878\u001b[39m     \u001b[38;5;28;01mif\u001b[39;00m \u001b[33m\"\u001b[39m\u001b[33mb\u001b[39m\u001b[33m\"\u001b[39m \u001b[38;5;129;01mnot\u001b[39;00m \u001b[38;5;129;01min\u001b[39;00m mode:\n\u001b[32m   1879\u001b[39m         mode += \u001b[33m\"\u001b[39m\u001b[33mb\u001b[39m\u001b[33m\"\u001b[39m\n\u001b[32m-> \u001b[39m\u001b[32m1880\u001b[39m \u001b[38;5;28mself\u001b[39m.handles = \u001b[43mget_handle\u001b[49m\u001b[43m(\u001b[49m\n\u001b[32m   1881\u001b[39m \u001b[43m    \u001b[49m\u001b[43mf\u001b[49m\u001b[43m,\u001b[49m\n\u001b[32m   1882\u001b[39m \u001b[43m    \u001b[49m\u001b[43mmode\u001b[49m\u001b[43m,\u001b[49m\n\u001b[32m   1883\u001b[39m \u001b[43m    \u001b[49m\u001b[43mencoding\u001b[49m\u001b[43m=\u001b[49m\u001b[38;5;28;43mself\u001b[39;49m\u001b[43m.\u001b[49m\u001b[43moptions\u001b[49m\u001b[43m.\u001b[49m\u001b[43mget\u001b[49m\u001b[43m(\u001b[49m\u001b[33;43m\"\u001b[39;49m\u001b[33;43mencoding\u001b[39;49m\u001b[33;43m\"\u001b[39;49m\u001b[43m,\u001b[49m\u001b[43m \u001b[49m\u001b[38;5;28;43;01mNone\u001b[39;49;00m\u001b[43m)\u001b[49m\u001b[43m,\u001b[49m\n\u001b[32m   1884\u001b[39m \u001b[43m    \u001b[49m\u001b[43mcompression\u001b[49m\u001b[43m=\u001b[49m\u001b[38;5;28;43mself\u001b[39;49m\u001b[43m.\u001b[49m\u001b[43moptions\u001b[49m\u001b[43m.\u001b[49m\u001b[43mget\u001b[49m\u001b[43m(\u001b[49m\u001b[33;43m\"\u001b[39;49m\u001b[33;43mcompression\u001b[39;49m\u001b[33;43m\"\u001b[39;49m\u001b[43m,\u001b[49m\u001b[43m \u001b[49m\u001b[38;5;28;43;01mNone\u001b[39;49;00m\u001b[43m)\u001b[49m\u001b[43m,\u001b[49m\n\u001b[32m   1885\u001b[39m \u001b[43m    \u001b[49m\u001b[43mmemory_map\u001b[49m\u001b[43m=\u001b[49m\u001b[38;5;28;43mself\u001b[39;49m\u001b[43m.\u001b[49m\u001b[43moptions\u001b[49m\u001b[43m.\u001b[49m\u001b[43mget\u001b[49m\u001b[43m(\u001b[49m\u001b[33;43m\"\u001b[39;49m\u001b[33;43mmemory_map\u001b[39;49m\u001b[33;43m\"\u001b[39;49m\u001b[43m,\u001b[49m\u001b[43m \u001b[49m\u001b[38;5;28;43;01mFalse\u001b[39;49;00m\u001b[43m)\u001b[49m\u001b[43m,\u001b[49m\n\u001b[32m   1886\u001b[39m \u001b[43m    \u001b[49m\u001b[43mis_text\u001b[49m\u001b[43m=\u001b[49m\u001b[43mis_text\u001b[49m\u001b[43m,\u001b[49m\n\u001b[32m   1887\u001b[39m \u001b[43m    \u001b[49m\u001b[43merrors\u001b[49m\u001b[43m=\u001b[49m\u001b[38;5;28;43mself\u001b[39;49m\u001b[43m.\u001b[49m\u001b[43moptions\u001b[49m\u001b[43m.\u001b[49m\u001b[43mget\u001b[49m\u001b[43m(\u001b[49m\u001b[33;43m\"\u001b[39;49m\u001b[33;43mencoding_errors\u001b[39;49m\u001b[33;43m\"\u001b[39;49m\u001b[43m,\u001b[49m\u001b[43m \u001b[49m\u001b[33;43m\"\u001b[39;49m\u001b[33;43mstrict\u001b[39;49m\u001b[33;43m\"\u001b[39;49m\u001b[43m)\u001b[49m\u001b[43m,\u001b[49m\n\u001b[32m   1888\u001b[39m \u001b[43m    \u001b[49m\u001b[43mstorage_options\u001b[49m\u001b[43m=\u001b[49m\u001b[38;5;28;43mself\u001b[39;49m\u001b[43m.\u001b[49m\u001b[43moptions\u001b[49m\u001b[43m.\u001b[49m\u001b[43mget\u001b[49m\u001b[43m(\u001b[49m\u001b[33;43m\"\u001b[39;49m\u001b[33;43mstorage_options\u001b[39;49m\u001b[33;43m\"\u001b[39;49m\u001b[43m,\u001b[49m\u001b[43m \u001b[49m\u001b[38;5;28;43;01mNone\u001b[39;49;00m\u001b[43m)\u001b[49m\u001b[43m,\u001b[49m\n\u001b[32m   1889\u001b[39m \u001b[43m\u001b[49m\u001b[43m)\u001b[49m\n\u001b[32m   1890\u001b[39m \u001b[38;5;28;01massert\u001b[39;00m \u001b[38;5;28mself\u001b[39m.handles \u001b[38;5;129;01mis\u001b[39;00m \u001b[38;5;129;01mnot\u001b[39;00m \u001b[38;5;28;01mNone\u001b[39;00m\n\u001b[32m   1891\u001b[39m f = \u001b[38;5;28mself\u001b[39m.handles.handle\n",
      "\u001b[36mFile \u001b[39m\u001b[32m~/jupyter-env/lib/python3.13/site-packages/pandas/io/common.py:873\u001b[39m, in \u001b[36mget_handle\u001b[39m\u001b[34m(path_or_buf, mode, encoding, compression, memory_map, is_text, errors, storage_options)\u001b[39m\n\u001b[32m    868\u001b[39m \u001b[38;5;28;01melif\u001b[39;00m \u001b[38;5;28misinstance\u001b[39m(handle, \u001b[38;5;28mstr\u001b[39m):\n\u001b[32m    869\u001b[39m     \u001b[38;5;66;03m# Check whether the filename is to be opened in binary mode.\u001b[39;00m\n\u001b[32m    870\u001b[39m     \u001b[38;5;66;03m# Binary mode does not support 'encoding' and 'newline'.\u001b[39;00m\n\u001b[32m    871\u001b[39m     \u001b[38;5;28;01mif\u001b[39;00m ioargs.encoding \u001b[38;5;129;01mand\u001b[39;00m \u001b[33m\"\u001b[39m\u001b[33mb\u001b[39m\u001b[33m\"\u001b[39m \u001b[38;5;129;01mnot\u001b[39;00m \u001b[38;5;129;01min\u001b[39;00m ioargs.mode:\n\u001b[32m    872\u001b[39m         \u001b[38;5;66;03m# Encoding\u001b[39;00m\n\u001b[32m--> \u001b[39m\u001b[32m873\u001b[39m         handle = \u001b[38;5;28;43mopen\u001b[39;49m\u001b[43m(\u001b[49m\n\u001b[32m    874\u001b[39m \u001b[43m            \u001b[49m\u001b[43mhandle\u001b[49m\u001b[43m,\u001b[49m\n\u001b[32m    875\u001b[39m \u001b[43m            \u001b[49m\u001b[43mioargs\u001b[49m\u001b[43m.\u001b[49m\u001b[43mmode\u001b[49m\u001b[43m,\u001b[49m\n\u001b[32m    876\u001b[39m \u001b[43m            \u001b[49m\u001b[43mencoding\u001b[49m\u001b[43m=\u001b[49m\u001b[43mioargs\u001b[49m\u001b[43m.\u001b[49m\u001b[43mencoding\u001b[49m\u001b[43m,\u001b[49m\n\u001b[32m    877\u001b[39m \u001b[43m            \u001b[49m\u001b[43merrors\u001b[49m\u001b[43m=\u001b[49m\u001b[43merrors\u001b[49m\u001b[43m,\u001b[49m\n\u001b[32m    878\u001b[39m \u001b[43m            \u001b[49m\u001b[43mnewline\u001b[49m\u001b[43m=\u001b[49m\u001b[33;43m\"\u001b[39;49m\u001b[33;43m\"\u001b[39;49m\u001b[43m,\u001b[49m\n\u001b[32m    879\u001b[39m \u001b[43m        \u001b[49m\u001b[43m)\u001b[49m\n\u001b[32m    880\u001b[39m     \u001b[38;5;28;01melse\u001b[39;00m:\n\u001b[32m    881\u001b[39m         \u001b[38;5;66;03m# Binary mode\u001b[39;00m\n\u001b[32m    882\u001b[39m         handle = \u001b[38;5;28mopen\u001b[39m(handle, ioargs.mode)\n",
      "\u001b[31mFileNotFoundError\u001b[39m: [Errno 2] No such file or directory: 'movies.csv'"
     ]
    }
   ],
   "source": [
    "df = pd.read_csv(\"movies.csv\")\n",
    "df"
   ]
  },
  {
   "cell_type": "code",
   "execution_count": 55,
   "id": "51f1e1cf-2bc3-453b-9ddb-6ca184e20c00",
   "metadata": {},
   "outputs": [
    {
     "data": {
      "text/plain": [
       "Title                  0\n",
       "Plot                   0\n",
       "Cast                   0\n",
       "Genre                  0\n",
       "Runtime               86\n",
       "Director               0\n",
       "Production House       0\n",
       "Release Dates          0\n",
       "Image URL              0\n",
       "Rating              1732\n",
       "Total Ratings       1732\n",
       "Movie URL              0\n",
       "dtype: int64"
      ]
     },
     "execution_count": 55,
     "metadata": {},
     "output_type": "execute_result"
    }
   ],
   "source": [
    "df.isnull().sum()"
   ]
  },
  {
   "cell_type": "code",
   "execution_count": 56,
   "id": "8aa7e046-f1da-4bf7-9def-8b7accdd1c71",
   "metadata": {},
   "outputs": [],
   "source": [
    "df[\"Production House\"].fillna(\"N/A\", inplace=True)\n",
    "df[\"Director\"].fillna(\"N/A\", inplace=True)\n"
   ]
  },
  {
   "cell_type": "code",
   "execution_count": 57,
   "id": "afbc453d-0b8d-40f2-b748-b486a385dd6e",
   "metadata": {},
   "outputs": [
    {
     "data": {
      "text/plain": [
       "Title                  0\n",
       "Plot                   0\n",
       "Cast                   0\n",
       "Genre                  0\n",
       "Runtime               86\n",
       "Director               0\n",
       "Production House       0\n",
       "Release Dates          0\n",
       "Image URL              0\n",
       "Rating              1732\n",
       "Total Ratings       1732\n",
       "Movie URL              0\n",
       "dtype: int64"
      ]
     },
     "execution_count": 57,
     "metadata": {},
     "output_type": "execute_result"
    }
   ],
   "source": [
    "df.isnull().sum()"
   ]
  },
  {
   "cell_type": "code",
   "execution_count": 58,
   "id": "d9c76bb5-29db-48f0-a04e-26d2bfd3bf00",
   "metadata": {},
   "outputs": [],
   "source": [
    "df[\"Image URL\"].fillna(\"https://cdn.simplystamps.com/media/catalog/product/5/8/5802-n-a-stock-stamp-hcb.png\", inplace=True)"
   ]
  },
  {
   "cell_type": "code",
   "execution_count": 59,
   "id": "a676c05e-1b2c-42ed-a27a-9abfdc4658eb",
   "metadata": {},
   "outputs": [
    {
     "data": {
      "text/plain": [
       "Title                  0\n",
       "Plot                   0\n",
       "Cast                   0\n",
       "Genre                  0\n",
       "Runtime               86\n",
       "Director               0\n",
       "Production House       0\n",
       "Release Dates          0\n",
       "Image URL              0\n",
       "Rating              1732\n",
       "Total Ratings       1732\n",
       "Movie URL              0\n",
       "dtype: int64"
      ]
     },
     "execution_count": 59,
     "metadata": {},
     "output_type": "execute_result"
    }
   ],
   "source": [
    "df.isnull().sum()"
   ]
  },
  {
   "cell_type": "code",
   "execution_count": 60,
   "id": "ebdd6cd4-86f8-4b41-830b-151927f87243",
   "metadata": {},
   "outputs": [],
   "source": [
    "df1 = df.drop(columns=['Total Ratings', 'Rating'])"
   ]
  },
  {
   "cell_type": "code",
   "execution_count": 61,
   "id": "1c0ae237-9f09-42c0-90a2-5812b13fa798",
   "metadata": {},
   "outputs": [
    {
     "name": "stdout",
     "output_type": "stream",
     "text": [
      "Index(['Title', 'Plot', 'Cast', 'Genre', 'Runtime', 'Director',\n",
      "       'Production House', 'Release Dates', 'Image URL', 'Movie URL'],\n",
      "      dtype='object')\n"
     ]
    }
   ],
   "source": [
    "print(df1.columns)"
   ]
  },
  {
   "cell_type": "code",
   "execution_count": 62,
   "id": "83be5f61-745d-4590-a9f2-2dfa0da5d0cf",
   "metadata": {},
   "outputs": [],
   "source": [
    "df1['describe'] = (\n",
    "    df1['Genre'].fillna('') + ' ' +\n",
    "    df1['Cast'].fillna('') + ' ' +\n",
    "    df1['Director'].fillna('') + ' ' +\n",
    "    df1['Production House'].fillna('') + ' ' +\n",
    "    df1['Plot'].fillna('')\n",
    ")"
   ]
  },
  {
   "cell_type": "code",
   "execution_count": 63,
   "id": "2cd20084-b983-4522-abcd-c27929ff16b9",
   "metadata": {},
   "outputs": [
    {
     "name": "stdout",
     "output_type": "stream",
     "text": [
      "Drama Gaumaya GurungDhanmaya, Dayahang Rai, Aaryan Sigdel, Khagendra Lamichhane, Malika Mahat, Basundhara Bhusal, Mohan Niraula, Aabha Aryal, Puskar Gurung, Binod Neupane, Anjana Baraili, Anoop Bikram Shahi, Buddhi Tamang, Kamal Mani Nepal Dinesh Raut Clock Work Creation PLOT Mahabhoj is a social drama set against Nepal’s political landscape. The film follows a group of ordinary individuals who rise against those who manipulate their lives for personal gain. It explores themes of rebellion, truth, and the fight for justice, tackling deep-rooted issues of political injustice and social inequality. The story revolves around a bank loan manager who desperately needs money and turns to his father for help—only to discover that his father's hard-earned savings have been stolen by a corrupt cooperative and a group of individuals for their own gain.\n"
     ]
    }
   ],
   "source": [
    "print(df1['describe'].iloc[0])"
   ]
  },
  {
   "cell_type": "code",
   "execution_count": 64,
   "id": "24cd6d28-92bb-40c8-97ce-10b6509107f0",
   "metadata": {},
   "outputs": [
    {
     "data": {
      "text/plain": [
       "0    dramagaumayagurungdhanmaya,dayahangrai,aaryans...\n",
       "1    comedy,dramaaasifshah,saugatmallakamal,garimas...\n",
       "2    action,dramarajeshhamalavinashbikramshah,nitis...\n",
       "3    comedy,dramadiliprayamajhi,surbirpandit,ramcha...\n",
       "4    dramakekiadhikari,upasanasinghthakuri,prakashg...\n",
       "Name: describe, dtype: object"
      ]
     },
     "execution_count": 64,
     "metadata": {},
     "output_type": "execute_result"
    }
   ],
   "source": [
    "def stri(x):\n",
    "    x = x.str.replace(' ','')\n",
    "    x= x.str.replace('/', '')\n",
    "    x = x.str.lower()\n",
    "    return x\n",
    "\n",
    "df1['describe'] = stri(df1['describe'])\n",
    "df1['describe'].head()"
   ]
  },
  {
   "cell_type": "code",
   "execution_count": 65,
   "id": "7fafb4c0-3bc9-4f9e-9c78-cb9e596e9bfc",
   "metadata": {},
   "outputs": [],
   "source": [
    "df1['Title'] = df1['Title'].str.replace(r'\\s*\\(\\d{4}\\)', '', regex=True)"
   ]
  },
  {
   "cell_type": "code",
   "execution_count": 66,
   "id": "fbc280c4-1712-4850-a95d-0bdb531b6a1c",
   "metadata": {},
   "outputs": [
    {
     "data": {
      "text/plain": [
       "0                           Mahabhoj\n",
       "1                       Jante Bakhro\n",
       "2                   Narasimha Avatar\n",
       "3                     Hello Kashiram\n",
       "4       Ke Ghar Ke Dera - Ghar No. 2\n",
       "                    ...             \n",
       "1727                Parivartan (B/W)\n",
       "1728                 Hijo Aaja Bholi\n",
       "1729                       Maitighar\n",
       "1730                            Aama\n",
       "1731                   Harishchandra\n",
       "Name: Title, Length: 1732, dtype: object"
      ]
     },
     "execution_count": 66,
     "metadata": {},
     "output_type": "execute_result"
    }
   ],
   "source": [
    "df1.Title"
   ]
  },
  {
   "cell_type": "code",
   "execution_count": 67,
   "id": "e3d7f678-9353-432f-93e4-4b13e0c701c1",
   "metadata": {},
   "outputs": [
    {
     "data": {
      "text/plain": [
       "array([[0, 0, 0, ..., 0, 0, 0],\n",
       "       [0, 0, 0, ..., 0, 0, 0],\n",
       "       [0, 0, 0, ..., 0, 0, 0],\n",
       "       ...,\n",
       "       [0, 0, 0, ..., 0, 0, 0],\n",
       "       [0, 0, 0, ..., 0, 0, 0],\n",
       "       [0, 1, 0, ..., 0, 0, 0]], shape=(1732, 5000))"
      ]
     },
     "execution_count": 67,
     "metadata": {},
     "output_type": "execute_result"
    }
   ],
   "source": [
    "from sklearn.feature_extraction.text import CountVectorizer\n",
    "vectorizer = CountVectorizer(max_features = 5000, stop_words='english')\n",
    "X = vectorizer.fit_transform(df1['describe']).toarray()\n",
    "X"
   ]
  },
  {
   "cell_type": "code",
   "execution_count": 68,
   "id": "9d244e22-9cbf-4763-8cf7-a27807f2ec69",
   "metadata": {},
   "outputs": [],
   "source": [
    "from sklearn.metrics.pairwise import cosine_similarity\n",
    "similarity = cosine_similarity(X)"
   ]
  },
  {
   "cell_type": "code",
   "execution_count": 69,
   "id": "8f15466e-1fed-4221-8600-4f633edf85f1",
   "metadata": {},
   "outputs": [
    {
     "data": {
      "text/plain": [
       "array([[1.        , 0.        , 0.        , ..., 0.        , 0.05103104,\n",
       "        0.        ],\n",
       "       [0.        , 1.        , 0.        , ..., 0.        , 0.        ,\n",
       "        0.        ],\n",
       "       [0.        , 0.        , 1.        , ..., 0.        , 0.        ,\n",
       "        0.        ],\n",
       "       ...,\n",
       "       [0.        , 0.        , 0.        , ..., 1.        , 0.        ,\n",
       "        0.        ],\n",
       "       [0.05103104, 0.        , 0.        , ..., 0.        , 1.        ,\n",
       "        0.        ],\n",
       "       [0.        , 0.        , 0.        , ..., 0.        , 0.        ,\n",
       "        1.        ]], shape=(1732, 1732))"
      ]
     },
     "execution_count": 69,
     "metadata": {},
     "output_type": "execute_result"
    }
   ],
   "source": [
    "similarity"
   ]
  },
  {
   "cell_type": "code",
   "execution_count": 70,
   "id": "f5250212-1a75-4732-aede-85fce9ad459a",
   "metadata": {},
   "outputs": [],
   "source": [
    "def recommended(movie):\n",
    "    try:\n",
    "        movie_index = df1[df1['Title'] == movie].index[0]\n",
    "    except IndexError:\n",
    "        print(f\"❌ Movie '{movie}' not found in the dataset.\")\n",
    "        return []\n",
    "\n",
    "    distances = similarity[movie_index]\n",
    "    movie_list = sorted(list(enumerate(distances)), reverse=True, key=lambda x: x[1])[1:6]\n",
    "\n",
    "    recommendations = []\n",
    "\n",
    "    print(f\"\\n🎬 Top 5 recommendations similar to: **{movie}**\\n\")\n",
    "    for i, (idx, _) in enumerate(movie_list, 1):\n",
    "        data = df1.iloc[idx]\n",
    "\n",
    "        title = data.get('Title', 'N/A')\n",
    "        genre = data.get('Genre', 'N/A')\n",
    "        cast = data.get('Cast', 'N/A')\n",
    "        director = data.get('Director', 'N/A')\n",
    "        prod = data.get('Production House', 'N/A')\n",
    "        dates = data.get('Release Dates', 'N/A')\n",
    "        plot = data.get('Plot', 'Plot not found')\n",
    "\n",
    "        print(f\"-> \\033[1m{title}\\033[0m\")\n",
    "        print(f\"\\t📌 Genre: {genre}\")\n",
    "        print(f\"\\t👥 Casts: {cast}\")\n",
    "        print(f\"\\t🎬 Director: {director}\")\n",
    "        print(f\"\\t🏭 Production House: {prod}\")\n",
    "        print(f\"\\t📅 Release on: {dates}\")\n",
    "        print(f\"\\t📝 Movie description: {plot}\\n\")\n",
    "\n",
    "        recommendations.append(title)\n",
    "\n",
    "    return recommendations\n"
   ]
  },
  {
   "cell_type": "code",
   "execution_count": 71,
   "id": "898ba83e-8a41-4a39-9380-1b2592e072c9",
   "metadata": {},
   "outputs": [
    {
     "name": "stdout",
     "output_type": "stream",
     "text": [
      "\n",
      "🎬 Top 5 recommendations similar to: **Jante Bakhro**\n",
      "\n",
      "-> \u001b[1mWelcome to Hemjakot\u001b[0m\n",
      "\t📌 Genre: Comedy,Drama\n",
      "\t👥 Casts: Buddhi Tamang, Binod Neupane, Ambika Tamang, Sujaira Karki, Ashmita Panta, Jayananda Lama, Bishal Pahari, Rabi Giri, Sharadha Giri\n",
      "\t🎬 Director: Saroj Poudel\n",
      "\t🏭 Production House: Film City Production House,Close-up Cine Production\n",
      "\t📅 Release on: 26 Jestha, 2080, 9 June, 2023\n",
      "\t📝 Movie description: PLOT “Welcome to Hemjakot” is a movie based on the story of three boys who are living in the common village of Hilly area as friends. The movie is based on the simple social drama of the struggle and tragic intercaste love of middle class youths which is similar to the accident caused by intercaste love in Rukum district a few years ago.\n",
      "\n",
      "-> \u001b[1mTakdhina Dhin\u001b[0m\n",
      "\t📌 Genre: Comedy,Drama\n",
      "\t👥 Casts: Royadip Shrestha, Nabina Silwal\n",
      "\t🎬 Director: N/A\n",
      "\t🏭 Production House: N/A\n",
      "\t📅 Release on: 23 Mangshir, 2077, 8 December, 2020\n",
      "\t📝 Movie description: Plot not found\n",
      "\n",
      "-> \u001b[1mHrashwo Deergha\u001b[0m\n",
      "\t📌 Genre: Comedy,Drama\n",
      "\t👥 Casts: Neeta DhunganaNarayani, Harihar AdhikariHari, Kanneganti BrahmanandamNarayani's Mama, Sharadha Giri, Bipana ThapaHari's Mother, Sanchita Luitel, Prasant Tamrakar, Kiran K.C., Buddhi Tamang, Garima Sharma, Pradeep Ram Singh RawatNarayani's Father, Rabindra Jha, Mohammad Ali, Saroj Khanal, Aadarsh Kumar MishraHari's Friend, Rekha ThapaMata\n",
      "\t🎬 Director: Chandra Panta\n",
      "\t🏭 Production House: Neeta Films Production\n",
      "\t📅 Release on: 30 Kartik, 2081, 15 November, 2024\n",
      "\t📝 Movie description: PLOT Hrashwo Deergha is a Nepali movie directed by Chandra Pant and produced by Neeta Dhungana. The film features a talented cast including Harihar Adhikari, Neeta Dhungana, Pradeep Rawat, and Brahmanandam. The movie plot revolves around the romantic relationship between Narayani and Hari. Narayani and Hari come from contrasting cultural and familial backgrounds. Their initial encounter leads to a series of events that intertwine their lives, creating a mix of comedy, drama, and romance.\n",
      "\n",
      "-> \u001b[1mAankha Lobhi Man Papi\u001b[0m\n",
      "\t📌 Genre: Comedy,Drama,Romance\n",
      "\t👥 Casts: Neer Bikram Shah, Gopal Raj Mainali, Ravi Shah, Surendra K.C., Sajja Mainali, Gopal Nepal, Rama Thapaliya, Narendra Kanskar, Kiran K.C., Nitesh Raj Panta\n",
      "\t🎬 Director: Shyam Rai\n",
      "\t🏭 Production House: Global Pictures\n",
      "\t📅 Release on: 6 Kartik, 2060, 23 October, 2003\n",
      "\t📝 Movie description: Plot not found\n",
      "\n",
      "-> \u001b[1mMatti Mala\u001b[0m\n",
      "\t📌 Genre: Comedy,Drama,Romance\n",
      "\t👥 Casts: Buddhi Tamang, Priyanka Karki, Rajani Gurung, Prithibi Rai\n",
      "\t🎬 Director: Teke Paurakhi Rai\n",
      "\t🏭 Production House: Paurakhi Films\n",
      "\t📅 Release on: 21 Jestha, 2075, 4 June, 2018\n",
      "\t📝 Movie description: Plot not found\n",
      "\n"
     ]
    },
    {
     "data": {
      "text/plain": [
       "['Welcome to Hemjakot',\n",
       " 'Takdhina Dhin',\n",
       " 'Hrashwo Deergha',\n",
       " 'Aankha Lobhi Man Papi',\n",
       " 'Matti Mala']"
      ]
     },
     "execution_count": 71,
     "metadata": {},
     "output_type": "execute_result"
    }
   ],
   "source": [
    "recommended('Jante Bakhro')"
   ]
  },
  {
   "cell_type": "code",
   "execution_count": null,
   "id": "19e47a7e-3125-4462-a489-b41829dbaecc",
   "metadata": {},
   "outputs": [],
   "source": []
  },
  {
   "cell_type": "code",
   "execution_count": null,
   "id": "321324a8-713a-4c49-9300-6e33d23f31ab",
   "metadata": {},
   "outputs": [],
   "source": []
  }
 ],
 "metadata": {
  "kernelspec": {
   "display_name": "Python 3 (ipykernel)",
   "language": "python",
   "name": "python3"
  },
  "language_info": {
   "codemirror_mode": {
    "name": "ipython",
    "version": 3
   },
   "file_extension": ".py",
   "mimetype": "text/x-python",
   "name": "python",
   "nbconvert_exporter": "python",
   "pygments_lexer": "ipython3",
   "version": "3.13.5"
  }
 },
 "nbformat": 4,
 "nbformat_minor": 5
}
