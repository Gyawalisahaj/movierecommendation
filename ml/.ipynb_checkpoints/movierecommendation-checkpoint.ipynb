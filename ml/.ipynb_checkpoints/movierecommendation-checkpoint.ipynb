{
 "cells": [
  {
   "cell_type": "code",
   "execution_count": null,
   "id": "4dc77b3e-da54-40a8-841b-ba42113c6bfc",
   "metadata": {},
   "outputs": [],
   "source": [
    "import pandas as pd\n",
    "import numpy as np\n",
    "import seaborn as sns \n",
    "import matplotlib.pyplot as plt\n",
    "\n",
    "import os\n",
    "import warnings \n",
    "warnings.simplefilter(action='ignore', category=FutureWarning)\n",
    "with warnings.catch_warnings():\n",
    "    warnings.simplefilter(\"ignore\", RuntimeWarning)"
   ]
  },
  {
   "cell_type": "code",
   "execution_count": 2,
   "id": "90c734b6-ea02-404f-ae0f-f3a212c6b296",
   "metadata": {},
   "outputs": [
    {
     "data": {
      "text/html": [
       "<div>\n",
       "<style scoped>\n",
       "    .dataframe tbody tr th:only-of-type {\n",
       "        vertical-align: middle;\n",
       "    }\n",
       "\n",
       "    .dataframe tbody tr th {\n",
       "        vertical-align: top;\n",
       "    }\n",
       "\n",
       "    .dataframe thead th {\n",
       "        text-align: right;\n",
       "    }\n",
       "</style>\n",
       "<table border=\"1\" class=\"dataframe\">\n",
       "  <thead>\n",
       "    <tr style=\"text-align: right;\">\n",
       "      <th></th>\n",
       "      <th>Title</th>\n",
       "      <th>Plot</th>\n",
       "      <th>Cast</th>\n",
       "      <th>Genre</th>\n",
       "      <th>Runtime</th>\n",
       "      <th>Director</th>\n",
       "      <th>Production House</th>\n",
       "      <th>Release Dates</th>\n",
       "      <th>Image URL</th>\n",
       "      <th>Rating</th>\n",
       "      <th>Total Ratings</th>\n",
       "      <th>Movie URL</th>\n",
       "    </tr>\n",
       "  </thead>\n",
       "  <tbody>\n",
       "    <tr>\n",
       "      <th>0</th>\n",
       "      <td>Mahabhoj(2025)</td>\n",
       "      <td>PLOT Mahabhoj is a social drama set against Ne...</td>\n",
       "      <td>Gaumaya GurungDhanmaya, Dayahang Rai, Aaryan S...</td>\n",
       "      <td>Drama</td>\n",
       "      <td>2h 13m</td>\n",
       "      <td>Dinesh Raut</td>\n",
       "      <td>Clock Work Creation</td>\n",
       "      <td>30 Jestha, 2082, 13 June, 2025</td>\n",
       "      <td>https://img.youtube.com/vi/sN5buyM_dHw/hqdefau...</td>\n",
       "      <td>NaN</td>\n",
       "      <td>NaN</td>\n",
       "      <td>https://www.thefilmnepal.com/movie/mahabhoj</td>\n",
       "    </tr>\n",
       "    <tr>\n",
       "      <th>1</th>\n",
       "      <td>Jante Bakhro(2025)</td>\n",
       "      <td>PLOT Jante Bakhro is a comedy drama film direc...</td>\n",
       "      <td>Aasif Shah, Saugat MallaKamal, Garima Sharma, ...</td>\n",
       "      <td>Comedy,Drama</td>\n",
       "      <td>2h 15m</td>\n",
       "      <td>Simosh Sunwar</td>\n",
       "      <td>MUIN Entertainment</td>\n",
       "      <td>23 Jestha, 2082, 6 June, 2025</td>\n",
       "      <td>https://img.youtube.com/vi/DR6Xlrm6fy8/hqdefau...</td>\n",
       "      <td>NaN</td>\n",
       "      <td>NaN</td>\n",
       "      <td>https://www.thefilmnepal.com/movie/jante-bakharo</td>\n",
       "    </tr>\n",
       "    <tr>\n",
       "      <th>2</th>\n",
       "      <td>Narasimha Avatar(2025)</td>\n",
       "      <td>PLOT Narsimha Avatar is an action-packed thril...</td>\n",
       "      <td>Rajesh HamalAvinash Bikram Shah, Niti Shah, Sa...</td>\n",
       "      <td>Action,Drama</td>\n",
       "      <td>2h 4m</td>\n",
       "      <td>Diwakar Bhattrai</td>\n",
       "      <td>Creative Cine Arts</td>\n",
       "      <td>9 Jestha, 2082, 23 May, 2025</td>\n",
       "      <td>https://img.youtube.com/vi/c0BoMzN7r_s/hqdefau...</td>\n",
       "      <td>NaN</td>\n",
       "      <td>NaN</td>\n",
       "      <td>https://www.thefilmnepal.com/movie/narsimha-av...</td>\n",
       "    </tr>\n",
       "    <tr>\n",
       "      <th>3</th>\n",
       "      <td>Hello Kashiram(2025)</td>\n",
       "      <td>PLOT Hello Kashiram is a drama that follows th...</td>\n",
       "      <td>Dilip Rayamajhi, Surbir Pandit, Ramchandra Adh...</td>\n",
       "      <td>Comedy,Drama</td>\n",
       "      <td>1h 45m</td>\n",
       "      <td>Rim Bishwakarma</td>\n",
       "      <td>Redline Films P.Ltd</td>\n",
       "      <td>2 Jestha, 2082, 16 May, 2025</td>\n",
       "      <td>https://img.youtube.com/vi/HW2LwSeF6xQ/hqdefau...</td>\n",
       "      <td>NaN</td>\n",
       "      <td>NaN</td>\n",
       "      <td>https://www.thefilmnepal.com/movie/hello-kashiram</td>\n",
       "    </tr>\n",
       "    <tr>\n",
       "      <th>4</th>\n",
       "      <td>Ke Ghar Ke Dera - Ghar No. 2(2025)</td>\n",
       "      <td>PLOT Ke Ghar Ke Dera - Ghar No. 2 follows Raun...</td>\n",
       "      <td>Keki Adhikari, Upasana Singh Thakuri, Prakash ...</td>\n",
       "      <td>Drama</td>\n",
       "      <td>2h 27m</td>\n",
       "      <td>Dipendra K Khanal</td>\n",
       "      <td>Nataraj Creation,A Plus Entertainment</td>\n",
       "      <td>2 Jestha, 2082, 16 May, 2025</td>\n",
       "      <td>https://img.youtube.com/vi/Hd9DQcl8XCM/hqdefau...</td>\n",
       "      <td>NaN</td>\n",
       "      <td>NaN</td>\n",
       "      <td>https://www.thefilmnepal.com/movie/k-ghar-k-de...</td>\n",
       "    </tr>\n",
       "    <tr>\n",
       "      <th>...</th>\n",
       "      <td>...</td>\n",
       "      <td>...</td>\n",
       "      <td>...</td>\n",
       "      <td>...</td>\n",
       "      <td>...</td>\n",
       "      <td>...</td>\n",
       "      <td>...</td>\n",
       "      <td>...</td>\n",
       "      <td>...</td>\n",
       "      <td>...</td>\n",
       "      <td>...</td>\n",
       "      <td>...</td>\n",
       "    </tr>\n",
       "    <tr>\n",
       "      <th>1727</th>\n",
       "      <td>Parivartan (B/W)(1971)</td>\n",
       "      <td>PLOT 'Paribartan' is a Nepali movie that focus...</td>\n",
       "      <td>Hari Prasad Rimal, Hira Singh Khatri</td>\n",
       "      <td>Drama</td>\n",
       "      <td>NaN</td>\n",
       "      <td>Hira Singh Khatri</td>\n",
       "      <td>NaN</td>\n",
       "      <td>9 Asoj, 2028, 25 September, 1971</td>\n",
       "      <td>NaN</td>\n",
       "      <td>NaN</td>\n",
       "      <td>NaN</td>\n",
       "      <td>https://www.thefilmnepal.com/movie/parivartan</td>\n",
       "    </tr>\n",
       "    <tr>\n",
       "      <th>1728</th>\n",
       "      <td>Hijo Aaja Bholi(1968)</td>\n",
       "      <td>PLOT 'Hijio Aaja Bholi' narrates a unique tale...</td>\n",
       "      <td>Basundhara Bhusal, Bhuwan Chand, Uttam Nepali,...</td>\n",
       "      <td>Drama</td>\n",
       "      <td>2h 15m</td>\n",
       "      <td>Hira Singh Khatri</td>\n",
       "      <td>NaN</td>\n",
       "      <td>2 Falgun, 2024, 14 February, 1968</td>\n",
       "      <td>NaN</td>\n",
       "      <td>NaN</td>\n",
       "      <td>NaN</td>\n",
       "      <td>https://www.thefilmnepal.com/movie/hijo-aaja-b...</td>\n",
       "    </tr>\n",
       "    <tr>\n",
       "      <th>1729</th>\n",
       "      <td>Maitighar(1966)</td>\n",
       "      <td>PLOT A young woman, who was born in Pokhara, f...</td>\n",
       "      <td>B.S. Thapa, Tika Bhusan Dahal, C.P. LohaniMoha...</td>\n",
       "      <td>Drama</td>\n",
       "      <td>2h 23m</td>\n",
       "      <td>B.S. Thapa</td>\n",
       "      <td>Sumananjali Films Pvt. Ltd.</td>\n",
       "      <td>1 Paush, 2023, 16 December, 1966</td>\n",
       "      <td>https://img.youtube.com/vi/NPIoknqCwX8/hqdefau...</td>\n",
       "      <td>NaN</td>\n",
       "      <td>NaN</td>\n",
       "      <td>https://www.thefilmnepal.com/movie/maitighar</td>\n",
       "    </tr>\n",
       "    <tr>\n",
       "      <th>1730</th>\n",
       "      <td>Aama(1964)</td>\n",
       "      <td>PLOT Harka Bahadur, a man plagued by alcoholis...</td>\n",
       "      <td>Bhuwan Chand, Shiva Shankar Manandhar, Uttam N...</td>\n",
       "      <td>Drama</td>\n",
       "      <td>2h 5m</td>\n",
       "      <td>Hira Singh Khatri</td>\n",
       "      <td>N/A,Information Department of Government of Nepal</td>\n",
       "      <td>22 Asoj, 2021, 7 October, 1964</td>\n",
       "      <td>NaN</td>\n",
       "      <td>NaN</td>\n",
       "      <td>NaN</td>\n",
       "      <td>https://www.thefilmnepal.com/movie/aama</td>\n",
       "    </tr>\n",
       "    <tr>\n",
       "      <th>1731</th>\n",
       "      <td>Harishchandra(1951)</td>\n",
       "      <td>PLOT The history of cinema in Nepal traces its...</td>\n",
       "      <td>D.B. Pariyar, Prem Najir, Chandrakanta, Rosy M...</td>\n",
       "      <td>Drama</td>\n",
       "      <td>NaN</td>\n",
       "      <td>D.B. Pariyar</td>\n",
       "      <td>Bihar National Movietone</td>\n",
       "      <td>29 Bhadra, 2008, 14 September, 1951</td>\n",
       "      <td>NaN</td>\n",
       "      <td>NaN</td>\n",
       "      <td>NaN</td>\n",
       "      <td>https://www.thefilmnepal.com/movie/harishchandra</td>\n",
       "    </tr>\n",
       "  </tbody>\n",
       "</table>\n",
       "<p>1732 rows × 12 columns</p>\n",
       "</div>"
      ],
      "text/plain": [
       "                                   Title  \\\n",
       "0                         Mahabhoj(2025)   \n",
       "1                     Jante Bakhro(2025)   \n",
       "2                 Narasimha Avatar(2025)   \n",
       "3                   Hello Kashiram(2025)   \n",
       "4     Ke Ghar Ke Dera - Ghar No. 2(2025)   \n",
       "...                                  ...   \n",
       "1727              Parivartan (B/W)(1971)   \n",
       "1728               Hijo Aaja Bholi(1968)   \n",
       "1729                     Maitighar(1966)   \n",
       "1730                          Aama(1964)   \n",
       "1731                 Harishchandra(1951)   \n",
       "\n",
       "                                                   Plot  \\\n",
       "0     PLOT Mahabhoj is a social drama set against Ne...   \n",
       "1     PLOT Jante Bakhro is a comedy drama film direc...   \n",
       "2     PLOT Narsimha Avatar is an action-packed thril...   \n",
       "3     PLOT Hello Kashiram is a drama that follows th...   \n",
       "4     PLOT Ke Ghar Ke Dera - Ghar No. 2 follows Raun...   \n",
       "...                                                 ...   \n",
       "1727  PLOT 'Paribartan' is a Nepali movie that focus...   \n",
       "1728  PLOT 'Hijio Aaja Bholi' narrates a unique tale...   \n",
       "1729  PLOT A young woman, who was born in Pokhara, f...   \n",
       "1730  PLOT Harka Bahadur, a man plagued by alcoholis...   \n",
       "1731  PLOT The history of cinema in Nepal traces its...   \n",
       "\n",
       "                                                   Cast         Genre Runtime  \\\n",
       "0     Gaumaya GurungDhanmaya, Dayahang Rai, Aaryan S...         Drama  2h 13m   \n",
       "1     Aasif Shah, Saugat MallaKamal, Garima Sharma, ...  Comedy,Drama  2h 15m   \n",
       "2     Rajesh HamalAvinash Bikram Shah, Niti Shah, Sa...  Action,Drama   2h 4m   \n",
       "3     Dilip Rayamajhi, Surbir Pandit, Ramchandra Adh...  Comedy,Drama  1h 45m   \n",
       "4     Keki Adhikari, Upasana Singh Thakuri, Prakash ...         Drama  2h 27m   \n",
       "...                                                 ...           ...     ...   \n",
       "1727               Hari Prasad Rimal, Hira Singh Khatri         Drama     NaN   \n",
       "1728  Basundhara Bhusal, Bhuwan Chand, Uttam Nepali,...         Drama  2h 15m   \n",
       "1729  B.S. Thapa, Tika Bhusan Dahal, C.P. LohaniMoha...         Drama  2h 23m   \n",
       "1730  Bhuwan Chand, Shiva Shankar Manandhar, Uttam N...         Drama   2h 5m   \n",
       "1731  D.B. Pariyar, Prem Najir, Chandrakanta, Rosy M...         Drama     NaN   \n",
       "\n",
       "               Director                                   Production House  \\\n",
       "0           Dinesh Raut                                Clock Work Creation   \n",
       "1         Simosh Sunwar                                 MUIN Entertainment   \n",
       "2      Diwakar Bhattrai                                 Creative Cine Arts   \n",
       "3       Rim Bishwakarma                                Redline Films P.Ltd   \n",
       "4     Dipendra K Khanal              Nataraj Creation,A Plus Entertainment   \n",
       "...                 ...                                                ...   \n",
       "1727  Hira Singh Khatri                                                NaN   \n",
       "1728  Hira Singh Khatri                                                NaN   \n",
       "1729         B.S. Thapa                        Sumananjali Films Pvt. Ltd.   \n",
       "1730  Hira Singh Khatri  N/A,Information Department of Government of Nepal   \n",
       "1731       D.B. Pariyar                           Bihar National Movietone   \n",
       "\n",
       "                            Release Dates  \\\n",
       "0          30 Jestha, 2082, 13 June, 2025   \n",
       "1           23 Jestha, 2082, 6 June, 2025   \n",
       "2            9 Jestha, 2082, 23 May, 2025   \n",
       "3            2 Jestha, 2082, 16 May, 2025   \n",
       "4            2 Jestha, 2082, 16 May, 2025   \n",
       "...                                   ...   \n",
       "1727     9 Asoj, 2028, 25 September, 1971   \n",
       "1728    2 Falgun, 2024, 14 February, 1968   \n",
       "1729     1 Paush, 2023, 16 December, 1966   \n",
       "1730       22 Asoj, 2021, 7 October, 1964   \n",
       "1731  29 Bhadra, 2008, 14 September, 1951   \n",
       "\n",
       "                                              Image URL  Rating  \\\n",
       "0     https://img.youtube.com/vi/sN5buyM_dHw/hqdefau...     NaN   \n",
       "1     https://img.youtube.com/vi/DR6Xlrm6fy8/hqdefau...     NaN   \n",
       "2     https://img.youtube.com/vi/c0BoMzN7r_s/hqdefau...     NaN   \n",
       "3     https://img.youtube.com/vi/HW2LwSeF6xQ/hqdefau...     NaN   \n",
       "4     https://img.youtube.com/vi/Hd9DQcl8XCM/hqdefau...     NaN   \n",
       "...                                                 ...     ...   \n",
       "1727                                                NaN     NaN   \n",
       "1728                                                NaN     NaN   \n",
       "1729  https://img.youtube.com/vi/NPIoknqCwX8/hqdefau...     NaN   \n",
       "1730                                                NaN     NaN   \n",
       "1731                                                NaN     NaN   \n",
       "\n",
       "      Total Ratings                                          Movie URL  \n",
       "0               NaN        https://www.thefilmnepal.com/movie/mahabhoj  \n",
       "1               NaN   https://www.thefilmnepal.com/movie/jante-bakharo  \n",
       "2               NaN  https://www.thefilmnepal.com/movie/narsimha-av...  \n",
       "3               NaN  https://www.thefilmnepal.com/movie/hello-kashiram  \n",
       "4               NaN  https://www.thefilmnepal.com/movie/k-ghar-k-de...  \n",
       "...             ...                                                ...  \n",
       "1727            NaN      https://www.thefilmnepal.com/movie/parivartan  \n",
       "1728            NaN  https://www.thefilmnepal.com/movie/hijo-aaja-b...  \n",
       "1729            NaN       https://www.thefilmnepal.com/movie/maitighar  \n",
       "1730            NaN            https://www.thefilmnepal.com/movie/aama  \n",
       "1731            NaN   https://www.thefilmnepal.com/movie/harishchandra  \n",
       "\n",
       "[1732 rows x 12 columns]"
      ]
     },
     "execution_count": 2,
     "metadata": {},
     "output_type": "execute_result"
    }
   ],
   "source": [
    "df = pd.read_csv(\"movies.csv\")\n",
    "df"
   ]
  },
  {
   "cell_type": "code",
   "execution_count": 3,
   "id": "51f1e1cf-2bc3-453b-9ddb-6ca184e20c00",
   "metadata": {},
   "outputs": [
    {
     "data": {
      "text/plain": [
       "Title                  0\n",
       "Plot                   0\n",
       "Cast                   0\n",
       "Genre                  0\n",
       "Runtime               86\n",
       "Director             102\n",
       "Production House     606\n",
       "Release Dates          0\n",
       "Image URL            786\n",
       "Rating              1732\n",
       "Total Ratings       1732\n",
       "Movie URL              0\n",
       "dtype: int64"
      ]
     },
     "execution_count": 3,
     "metadata": {},
     "output_type": "execute_result"
    }
   ],
   "source": [
    "df.isnull().sum()"
   ]
  },
  {
   "cell_type": "code",
   "execution_count": 4,
   "id": "8aa7e046-f1da-4bf7-9def-8b7accdd1c71",
   "metadata": {},
   "outputs": [],
   "source": [
    "df[\"Production House\"].fillna(\"N/A\", inplace=True)\n",
    "df[\"Director\"].fillna(\"N/A\", inplace=True)\n"
   ]
  },
  {
   "cell_type": "code",
   "execution_count": 5,
   "id": "afbc453d-0b8d-40f2-b748-b486a385dd6e",
   "metadata": {},
   "outputs": [
    {
     "data": {
      "text/plain": [
       "Title                  0\n",
       "Plot                   0\n",
       "Cast                   0\n",
       "Genre                  0\n",
       "Runtime               86\n",
       "Director               0\n",
       "Production House       0\n",
       "Release Dates          0\n",
       "Image URL            786\n",
       "Rating              1732\n",
       "Total Ratings       1732\n",
       "Movie URL              0\n",
       "dtype: int64"
      ]
     },
     "execution_count": 5,
     "metadata": {},
     "output_type": "execute_result"
    }
   ],
   "source": [
    "df.isnull().sum()"
   ]
  },
  {
   "cell_type": "code",
   "execution_count": 6,
   "id": "d9c76bb5-29db-48f0-a04e-26d2bfd3bf00",
   "metadata": {},
   "outputs": [],
   "source": [
    "df[\"Image URL\"].fillna(\"https://cdn.simplystamps.com/media/catalog/product/5/8/5802-n-a-stock-stamp-hcb.png\", inplace=True)"
   ]
  },
  {
   "cell_type": "code",
   "execution_count": 7,
   "id": "a676c05e-1b2c-42ed-a27a-9abfdc4658eb",
   "metadata": {},
   "outputs": [
    {
     "data": {
      "text/plain": [
       "Title                  0\n",
       "Plot                   0\n",
       "Cast                   0\n",
       "Genre                  0\n",
       "Runtime               86\n",
       "Director               0\n",
       "Production House       0\n",
       "Release Dates          0\n",
       "Image URL              0\n",
       "Rating              1732\n",
       "Total Ratings       1732\n",
       "Movie URL              0\n",
       "dtype: int64"
      ]
     },
     "execution_count": 7,
     "metadata": {},
     "output_type": "execute_result"
    }
   ],
   "source": [
    "df.isnull().sum()"
   ]
  },
  {
   "cell_type": "code",
   "execution_count": 8,
   "id": "ebdd6cd4-86f8-4b41-830b-151927f87243",
   "metadata": {},
   "outputs": [],
   "source": [
    "df1 = df.drop(columns=['Total Ratings', 'Rating'])"
   ]
  },
  {
   "cell_type": "code",
   "execution_count": 9,
   "id": "1c0ae237-9f09-42c0-90a2-5812b13fa798",
   "metadata": {},
   "outputs": [
    {
     "name": "stdout",
     "output_type": "stream",
     "text": [
      "Index(['Title', 'Plot', 'Cast', 'Genre', 'Runtime', 'Director',\n",
      "       'Production House', 'Release Dates', 'Image URL', 'Movie URL'],\n",
      "      dtype='object')\n"
     ]
    }
   ],
   "source": [
    "print(df1.columns)"
   ]
  },
  {
   "cell_type": "code",
   "execution_count": 12,
   "id": "83be5f61-745d-4590-a9f2-2dfa0da5d0cf",
   "metadata": {},
   "outputs": [],
   "source": [
    "df1['describe'] = (\n",
    "    df1['Genre'].fillna('') + ' ' +\n",
    "    df1['Cast'].fillna('') + ' ' +\n",
    "    df1['Director'].fillna('') + ' ' +\n",
    "    df1['Production House'].fillna('') + ' ' +\n",
    "    df1['Plot'].fillna('')\n",
    ")"
   ]
  },
  {
   "cell_type": "code",
   "execution_count": 15,
   "id": "2cd20084-b983-4522-abcd-c27929ff16b9",
   "metadata": {},
   "outputs": [
    {
     "name": "stdout",
     "output_type": "stream",
     "text": [
      "Drama Gaumaya GurungDhanmaya, Dayahang Rai, Aaryan Sigdel, Khagendra Lamichhane, Malika Mahat, Basundhara Bhusal, Mohan Niraula, Aabha Aryal, Puskar Gurung, Binod Neupane, Anjana Baraili, Anoop Bikram Shahi, Buddhi Tamang, Kamal Mani Nepal Dinesh Raut Clock Work Creation PLOT Mahabhoj is a social drama set against Nepal’s political landscape. The film follows a group of ordinary individuals who rise against those who manipulate their lives for personal gain. It explores themes of rebellion, truth, and the fight for justice, tackling deep-rooted issues of political injustice and social inequality. The story revolves around a bank loan manager who desperately needs money and turns to his father for help—only to discover that his father's hard-earned savings have been stolen by a corrupt cooperative and a group of individuals for their own gain.\n"
     ]
    }
   ],
   "source": [
    "print(df1['describe'].iloc[0])"
   ]
  },
  {
   "cell_type": "code",
   "execution_count": 19,
   "id": "24cd6d28-92bb-40c8-97ce-10b6509107f0",
   "metadata": {},
   "outputs": [
    {
     "data": {
      "text/plain": [
       "0    dramagaumayagurungdhanmaya,dayahangrai,aaryans...\n",
       "1    comedy,dramaaasifshah,saugatmallakamal,garimas...\n",
       "2    action,dramarajeshhamalavinashbikramshah,nitis...\n",
       "3    comedy,dramadiliprayamajhi,surbirpandit,ramcha...\n",
       "4    dramakekiadhikari,upasanasinghthakuri,prakashg...\n",
       "Name: describe, dtype: object"
      ]
     },
     "execution_count": 19,
     "metadata": {},
     "output_type": "execute_result"
    }
   ],
   "source": [
    "def stri(x):\n",
    "    x = x.str.replace(' ','')\n",
    "    x= x.str.replace('/', '')\n",
    "    x = x.str.lower()\n",
    "    return x\n",
    "\n",
    "df1['describe'] = stri(df1['describe'])\n",
    "df1['describe'].head()"
   ]
  },
  {
   "cell_type": "code",
   "execution_count": 20,
   "id": "7fafb4c0-3bc9-4f9e-9c78-cb9e596e9bfc",
   "metadata": {},
   "outputs": [],
   "source": [
    "df1['Title'] = df1['Title'].str.replace(r'\\s*\\(\\d{4}\\)', '', regex=True)"
   ]
  },
  {
   "cell_type": "code",
   "execution_count": 21,
   "id": "fbc280c4-1712-4850-a95d-0bdb531b6a1c",
   "metadata": {},
   "outputs": [
    {
     "data": {
      "text/plain": [
       "0                           Mahabhoj\n",
       "1                       Jante Bakhro\n",
       "2                   Narasimha Avatar\n",
       "3                     Hello Kashiram\n",
       "4       Ke Ghar Ke Dera - Ghar No. 2\n",
       "                    ...             \n",
       "1727                Parivartan (B/W)\n",
       "1728                 Hijo Aaja Bholi\n",
       "1729                       Maitighar\n",
       "1730                            Aama\n",
       "1731                   Harishchandra\n",
       "Name: Title, Length: 1732, dtype: object"
      ]
     },
     "execution_count": 21,
     "metadata": {},
     "output_type": "execute_result"
    }
   ],
   "source": [
    "df1.Title"
   ]
  },
  {
   "cell_type": "code",
   "execution_count": 23,
   "id": "e3d7f678-9353-432f-93e4-4b13e0c701c1",
   "metadata": {},
   "outputs": [
    {
     "data": {
      "text/plain": [
       "array([[0, 0, 0, ..., 0, 0, 0],\n",
       "       [0, 0, 0, ..., 0, 0, 0],\n",
       "       [0, 0, 0, ..., 0, 0, 0],\n",
       "       ...,\n",
       "       [0, 0, 0, ..., 0, 0, 0],\n",
       "       [0, 0, 0, ..., 0, 0, 0],\n",
       "       [0, 1, 0, ..., 0, 0, 0]], shape=(1732, 5000))"
      ]
     },
     "execution_count": 23,
     "metadata": {},
     "output_type": "execute_result"
    }
   ],
   "source": [
    "from sklearn.feature_extraction.text import CountVectorizer\n",
    "vectorizer = CountVectorizer(max_features = 5000, stop_words='english')\n",
    "X = vectorizer.fit_transform(df1['describe']).toarray()\n",
    "X"
   ]
  },
  {
   "cell_type": "code",
   "execution_count": 24,
   "id": "9d244e22-9cbf-4763-8cf7-a27807f2ec69",
   "metadata": {},
   "outputs": [],
   "source": [
    "from sklearn.metrics.pairwise import cosine_similarity\n",
    "similarity = cosine_similarity(X)"
   ]
  },
  {
   "cell_type": "code",
   "execution_count": 25,
   "id": "8f15466e-1fed-4221-8600-4f633edf85f1",
   "metadata": {},
   "outputs": [
    {
     "data": {
      "text/plain": [
       "array([[1.        , 0.        , 0.        , ..., 0.        , 0.05103104,\n",
       "        0.        ],\n",
       "       [0.        , 1.        , 0.        , ..., 0.        , 0.        ,\n",
       "        0.        ],\n",
       "       [0.        , 0.        , 1.        , ..., 0.        , 0.        ,\n",
       "        0.        ],\n",
       "       ...,\n",
       "       [0.        , 0.        , 0.        , ..., 1.        , 0.        ,\n",
       "        0.        ],\n",
       "       [0.05103104, 0.        , 0.        , ..., 0.        , 1.        ,\n",
       "        0.        ],\n",
       "       [0.        , 0.        , 0.        , ..., 0.        , 0.        ,\n",
       "        1.        ]], shape=(1732, 1732))"
      ]
     },
     "execution_count": 25,
     "metadata": {},
     "output_type": "execute_result"
    }
   ],
   "source": [
    "similarity"
   ]
  },
  {
   "cell_type": "code",
   "execution_count": 48,
   "id": "f5250212-1a75-4732-aede-85fce9ad459a",
   "metadata": {},
   "outputs": [],
   "source": [
    "def recommended(movie):\n",
    "    try:\n",
    "        movie_index = df1[df1['Title'] == movie].index[0]\n",
    "    except IndexError:\n",
    "        print(f\"❌ Movie '{movie}' not found in the dataset.\")\n",
    "        return []\n",
    "\n",
    "    distances = similarity[movie_index]\n",
    "    movie_list = sorted(list(enumerate(distances)), reverse=True, key=lambda x: x[1])[1:6]\n",
    "\n",
    "    recommendations = []\n",
    "\n",
    "    print(f\"\\n🎬 Top 5 recommendations similar to: **{movie}**\\n\")\n",
    "    for i, (idx, _) in enumerate(movie_list, 1):\n",
    "        data = df1.iloc[idx]\n",
    "\n",
    "        title = data.get('Title', 'N/A')\n",
    "        genre = data.get('Genre', 'N/A')\n",
    "        cast = data.get('Cast', 'N/A')\n",
    "        director = data.get('Director', 'N/A')\n",
    "        prod = data.get('Production House', 'N/A')\n",
    "        dates = data.get('Release Dates', 'N/A')\n",
    "        plot = data.get('Plot', 'Plot not found')\n",
    "\n",
    "        print(f\"-> \\033[1m{title}\\033[0m\")\n",
    "        print(f\"\\t📌 Genre: {genre}\")\n",
    "        print(f\"\\t👥 Casts: {cast}\")\n",
    "        print(f\"\\t🎬 Director: {director}\")\n",
    "        print(f\"\\t🏭 Production House: {prod}\")\n",
    "        print(f\"\\t📅 Release on: {dates}\")\n",
    "        print(f\"\\t📝 Movie description: {plot}\\n\")\n",
    "\n",
    "        recommendations.append(title)\n",
    "\n",
    "    return recommendations\n"
   ]
  },
  {
   "cell_type": "code",
   "execution_count": 49,
   "id": "898ba83e-8a41-4a39-9380-1b2592e072c9",
   "metadata": {},
   "outputs": [
    {
     "name": "stdout",
     "output_type": "stream",
     "text": [
      "\n",
      "🎬 Top 5 recommendations similar to: **Jante Bakhro**\n",
      "\n",
      "-> \u001b[1mWelcome to Hemjakot\u001b[0m\n",
      "\t📌 Genre: Comedy,Drama\n",
      "\t👥 Casts: Buddhi Tamang, Binod Neupane, Ambika Tamang, Sujaira Karki, Ashmita Panta, Jayananda Lama, Bishal Pahari, Rabi Giri, Sharadha Giri\n",
      "\t🎬 Director: Saroj Poudel\n",
      "\t🏭 Production House: Film City Production House,Close-up Cine Production\n",
      "\t📅 Release on: 26 Jestha, 2080, 9 June, 2023\n",
      "\t📝 Movie description: PLOT “Welcome to Hemjakot” is a movie based on the story of three boys who are living in the common village of Hilly area as friends. The movie is based on the simple social drama of the struggle and tragic intercaste love of middle class youths which is similar to the accident caused by intercaste love in Rukum district a few years ago.\n",
      "\n",
      "-> \u001b[1mTakdhina Dhin\u001b[0m\n",
      "\t📌 Genre: Comedy,Drama\n",
      "\t👥 Casts: Royadip Shrestha, Nabina Silwal\n",
      "\t🎬 Director: N/A\n",
      "\t🏭 Production House: N/A\n",
      "\t📅 Release on: 23 Mangshir, 2077, 8 December, 2020\n",
      "\t📝 Movie description: Plot not found\n",
      "\n",
      "-> \u001b[1mHrashwo Deergha\u001b[0m\n",
      "\t📌 Genre: Comedy,Drama\n",
      "\t👥 Casts: Neeta DhunganaNarayani, Harihar AdhikariHari, Kanneganti BrahmanandamNarayani's Mama, Sharadha Giri, Bipana ThapaHari's Mother, Sanchita Luitel, Prasant Tamrakar, Kiran K.C., Buddhi Tamang, Garima Sharma, Pradeep Ram Singh RawatNarayani's Father, Rabindra Jha, Mohammad Ali, Saroj Khanal, Aadarsh Kumar MishraHari's Friend, Rekha ThapaMata\n",
      "\t🎬 Director: Chandra Panta\n",
      "\t🏭 Production House: Neeta Films Production\n",
      "\t📅 Release on: 30 Kartik, 2081, 15 November, 2024\n",
      "\t📝 Movie description: PLOT Hrashwo Deergha is a Nepali movie directed by Chandra Pant and produced by Neeta Dhungana. The film features a talented cast including Harihar Adhikari, Neeta Dhungana, Pradeep Rawat, and Brahmanandam. The movie plot revolves around the romantic relationship between Narayani and Hari. Narayani and Hari come from contrasting cultural and familial backgrounds. Their initial encounter leads to a series of events that intertwine their lives, creating a mix of comedy, drama, and romance.\n",
      "\n",
      "-> \u001b[1mAankha Lobhi Man Papi\u001b[0m\n",
      "\t📌 Genre: Comedy,Drama,Romance\n",
      "\t👥 Casts: Neer Bikram Shah, Gopal Raj Mainali, Ravi Shah, Surendra K.C., Sajja Mainali, Gopal Nepal, Rama Thapaliya, Narendra Kanskar, Kiran K.C., Nitesh Raj Panta\n",
      "\t🎬 Director: Shyam Rai\n",
      "\t🏭 Production House: Global Pictures\n",
      "\t📅 Release on: 6 Kartik, 2060, 23 October, 2003\n",
      "\t📝 Movie description: Plot not found\n",
      "\n",
      "-> \u001b[1mMatti Mala\u001b[0m\n",
      "\t📌 Genre: Comedy,Drama,Romance\n",
      "\t👥 Casts: Buddhi Tamang, Priyanka Karki, Rajani Gurung, Prithibi Rai\n",
      "\t🎬 Director: Teke Paurakhi Rai\n",
      "\t🏭 Production House: Paurakhi Films\n",
      "\t📅 Release on: 21 Jestha, 2075, 4 June, 2018\n",
      "\t📝 Movie description: Plot not found\n",
      "\n"
     ]
    },
    {
     "data": {
      "text/plain": [
       "['Welcome to Hemjakot',\n",
       " 'Takdhina Dhin',\n",
       " 'Hrashwo Deergha',\n",
       " 'Aankha Lobhi Man Papi',\n",
       " 'Matti Mala']"
      ]
     },
     "execution_count": 49,
     "metadata": {},
     "output_type": "execute_result"
    }
   ],
   "source": [
    "recommended('Jante Bakhro')"
   ]
  },
  {
   "cell_type": "code",
   "execution_count": null,
   "id": "19e47a7e-3125-4462-a489-b41829dbaecc",
   "metadata": {},
   "outputs": [],
   "source": []
  },
  {
   "cell_type": "code",
   "execution_count": null,
   "id": "321324a8-713a-4c49-9300-6e33d23f31ab",
   "metadata": {},
   "outputs": [],
   "source": []
  }
 ],
 "metadata": {
  "kernelspec": {
   "display_name": "Python 3 (ipykernel)",
   "language": "python",
   "name": "python3"
  },
  "language_info": {
   "codemirror_mode": {
    "name": "ipython",
    "version": 3
   },
   "file_extension": ".py",
   "mimetype": "text/x-python",
   "name": "python",
   "nbconvert_exporter": "python",
   "pygments_lexer": "ipython3",
   "version": "3.13.5"
  }
 },
 "nbformat": 4,
 "nbformat_minor": 5
}
